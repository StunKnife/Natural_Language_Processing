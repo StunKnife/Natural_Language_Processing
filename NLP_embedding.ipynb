{
 "cells": [
  {
   "attachments": {},
   "cell_type": "markdown",
   "metadata": {},
   "source": [
    "# NLP: Embeddings\n",
    "    - São únicas em termos de capturar o contexto das palavras e representá-las de forma que palavras com significados semelhantes sejam representadas com tipos semelhantes de Embeddings. Existem duas formas de calcular os embeddings.\n",
    "    1. Skip Gram\n",
    "    2. Continuous Bag of Words (CBOW)\n",
    "    \n",
    "    - Ambos os métodos fornecem valores de Embeddings que nada mais são do que pesos da camada oculta em uma rede neural.   \n",
    "    1. O word2vec fornece os valores de incorporação para cada palavra\n",
    "    2. enquanto doc2vec fornece os valores de incorporação para a frase inteira."
   ]
  },
  {
   "attachments": {},
   "cell_type": "markdown",
   "metadata": {},
   "source": [
    "- Vamos usar um conjunto de dados de amostra para ilustrar como podemos criar Embeddings de sequência a partir de uma jornada de varejo online de usuários"
   ]
  },
  {
   "cell_type": "code",
   "execution_count": 55,
   "metadata": {},
   "outputs": [
    {
     "name": "stdout",
     "output_type": "stream",
     "text": [
      "Requirement already satisfied: gensim in c:\\users\\pc\\anaconda3\\lib\\site-packages (4.2.0)\n",
      "Requirement already satisfied: smart-open>=1.8.1 in c:\\users\\pc\\anaconda3\\lib\\site-packages (from gensim) (6.2.0)\n",
      "Requirement already satisfied: scipy>=0.18.1 in c:\\users\\pc\\anaconda3\\lib\\site-packages (from gensim) (1.9.3)\n",
      "Requirement already satisfied: numpy>=1.17.0 in c:\\users\\pc\\anaconda3\\lib\\site-packages (from gensim) (1.20.3)\n",
      "Requirement already satisfied: Cython==0.29.28 in c:\\users\\pc\\anaconda3\\lib\\site-packages (from gensim) (0.29.28)\n",
      "Note: you may need to restart the kernel to use updated packages.\n"
     ]
    },
    {
     "name": "stderr",
     "output_type": "stream",
     "text": [
      "WARNING: Ignoring invalid distribution -tatsmodels (c:\\users\\pc\\anaconda3\\lib\\site-packages)\n",
      "WARNING: Ignoring invalid distribution -tatsmodels (c:\\users\\pc\\anaconda3\\lib\\site-packages)\n",
      "WARNING: Ignoring invalid distribution -tatsmodels (c:\\users\\pc\\anaconda3\\lib\\site-packages)\n",
      "WARNING: Ignoring invalid distribution -tatsmodels (c:\\users\\pc\\anaconda3\\lib\\site-packages)\n",
      "WARNING: Ignoring invalid distribution -tatsmodels (c:\\users\\pc\\anaconda3\\lib\\site-packages)\n",
      "WARNING: Ignoring invalid distribution -tatsmodels (c:\\users\\pc\\anaconda3\\lib\\site-packages)\n"
     ]
    }
   ],
   "source": [
    "pip install gensim "
   ]
  },
  {
   "cell_type": "code",
   "execution_count": 56,
   "metadata": {},
   "outputs": [],
   "source": [
    "# Bibliotecas\n",
    "import findspark\n",
    "findspark.init()\n",
    "import pyspark\n",
    "from pyspark.sql import SparkSession\n",
    "spark = SparkSession.builder.getOrCreate()"
   ]
  },
  {
   "cell_type": "code",
   "execution_count": 57,
   "metadata": {},
   "outputs": [
    {
     "name": "stdout",
     "output_type": "stream",
     "text": [
      "+----------------------------------------------------------------+------------+-------------------+------------+----------+---------+\n",
      "|user_id                                                         |page        |timestamp          |visit_number|time_spent|converted|\n",
      "+----------------------------------------------------------------+------------+-------------------+------------+----------+---------+\n",
      "|8057ed24427be18922f640b20b60997e7d070946b6c8f48117ae4d6dad0ebb23|homepage    |2017-05-24 19:00:41|0           |0.16666667|1        |\n",
      "|8057ed24427be18922f640b20b60997e7d070946b6c8f48117ae4d6dad0ebb23|product info|2017-05-24 19:00:51|0           |0.4       |1        |\n",
      "|8057ed24427be18922f640b20b60997e7d070946b6c8f48117ae4d6dad0ebb23|product info|2017-05-24 19:01:15|0           |0.31666666|1        |\n",
      "|8057ed24427be18922f640b20b60997e7d070946b6c8f48117ae4d6dad0ebb23|product info|2017-05-24 19:02:42|0           |0.6333333 |1        |\n",
      "|8057ed24427be18922f640b20b60997e7d070946b6c8f48117ae4d6dad0ebb23|product info|2017-05-24 19:03:20|0           |0.15      |1        |\n",
      "+----------------------------------------------------------------+------------+-------------------+------------+----------+---------+\n",
      "only showing top 5 rows\n",
      "\n"
     ]
    }
   ],
   "source": [
    "url='C:/Users/Pc/Desktop/Hartb/machineLearning/PYSPARK/embedding_dataset.csv'\n",
    "\n",
    "df = spark.read.csv(url,header=True, inferSchema=True)\n",
    "df.show(5,False)"
   ]
  },
  {
   "cell_type": "code",
   "execution_count": 58,
   "metadata": {},
   "outputs": [
    {
     "data": {
      "text/plain": [
       "1096955"
      ]
     },
     "execution_count": 58,
     "metadata": {},
     "output_type": "execute_result"
    }
   ],
   "source": [
    "df.count()"
   ]
  },
  {
   "attachments": {},
   "cell_type": "markdown",
   "metadata": {},
   "source": [
    "- O número total de registros no conjunto de dados é próximo a um milhão e há 0,1 milhão de usuários únicos. \n",
    "- O tempo gasto por cada usuário em cada uma das páginas da web também é rastreado junto com o status final se o usuário comprou o produto ou não"
   ]
  },
  {
   "cell_type": "code",
   "execution_count": 59,
   "metadata": {},
   "outputs": [
    {
     "name": "stdout",
     "output_type": "stream",
     "text": [
      "root\n",
      " |-- user_id: string (nullable = true)\n",
      " |-- page: string (nullable = true)\n",
      " |-- timestamp: timestamp (nullable = true)\n",
      " |-- visit_number: integer (nullable = true)\n",
      " |-- time_spent: double (nullable = true)\n",
      " |-- converted: integer (nullable = true)\n",
      "\n"
     ]
    }
   ],
   "source": [
    "df.printSchema()"
   ]
  },
  {
   "cell_type": "code",
   "execution_count": 60,
   "metadata": {},
   "outputs": [
    {
     "data": {
      "text/plain": [
       "104087"
      ]
     },
     "execution_count": 60,
     "metadata": {},
     "output_type": "execute_result"
    }
   ],
   "source": [
    "df.select('user_id').distinct().count()"
   ]
  },
  {
   "cell_type": "code",
   "execution_count": 61,
   "metadata": {},
   "outputs": [
    {
     "name": "stdout",
     "output_type": "stream",
     "text": [
      "+-------------+------+\n",
      "|page         |count |\n",
      "+-------------+------+\n",
      "|product info |767131|\n",
      "|homepage     |142456|\n",
      "|added to cart|67087 |\n",
      "|others       |39919 |\n",
      "|offers       |32003 |\n",
      "|buy          |24916 |\n",
      "|reviews      |23443 |\n",
      "+-------------+------+\n",
      "\n"
     ]
    }
   ],
   "source": [
    "df.groupBy('page').count().orderBy('count',ascending=False).show(10,False)"
   ]
  },
  {
   "cell_type": "code",
   "execution_count": 62,
   "metadata": {},
   "outputs": [
    {
     "name": "stdout",
     "output_type": "stream",
     "text": [
      "+----------------------------------------------------------------+-------------+------------+-----------+---------+\n",
      "|user_id                                                         |page         |visit_number|time_spent |converted|\n",
      "+----------------------------------------------------------------+-------------+------------+-----------+---------+\n",
      "|8057ed24427be18922f640b20b60997e7d070946b6c8f48117ae4d6dad0ebb23|homepage     |0           |0.16666667 |1        |\n",
      "|8057ed24427be18922f640b20b60997e7d070946b6c8f48117ae4d6dad0ebb23|product info |0           |0.4        |1        |\n",
      "|8057ed24427be18922f640b20b60997e7d070946b6c8f48117ae4d6dad0ebb23|product info |0           |0.31666666 |1        |\n",
      "|8057ed24427be18922f640b20b60997e7d070946b6c8f48117ae4d6dad0ebb23|product info |0           |0.6333333  |1        |\n",
      "|8057ed24427be18922f640b20b60997e7d070946b6c8f48117ae4d6dad0ebb23|product info |0           |0.15       |1        |\n",
      "|8057ed24427be18922f640b20b60997e7d070946b6c8f48117ae4d6dad0ebb23|homepage     |1           |0.8333333  |1        |\n",
      "|8057ed24427be18922f640b20b60997e7d070946b6c8f48117ae4d6dad0ebb23|product info |1           |0.16666667 |1        |\n",
      "|8057ed24427be18922f640b20b60997e7d070946b6c8f48117ae4d6dad0ebb23|product info |2           |0.16666667 |1        |\n",
      "|8057ed24427be18922f640b20b60997e7d070946b6c8f48117ae4d6dad0ebb23|buy          |2           |0.016666668|1        |\n",
      "|8057ed24427be18922f640b20b60997e7d070946b6c8f48117ae4d6dad0ebb23|added to cart|2           |0.41666666 |1        |\n",
      "+----------------------------------------------------------------+-------------+------------+-----------+---------+\n",
      "only showing top 10 rows\n",
      "\n"
     ]
    }
   ],
   "source": [
    "df.select(['user_id','page','visit_number','time_spent','converted']).show(10,False)"
   ]
  },
  {
   "attachments": {},
   "cell_type": "markdown",
   "metadata": {},
   "source": [
    "- A ideia das Embeddings de sequência é traduzir a série de etapas executadas pelo usuário durante sua jornada on-line em uma sequência de páginas, que pode ser usada para calcular pontuações de Embeddings.\n",
    "- A primeira etapa é remover qualquer uma das páginas duplicadas consecutivas durante a jornada de um usuário\n",
    "- Criamos uma coluna adicional que captura a página anterior de um usuário"
   ]
  },
  {
   "attachments": {},
   "cell_type": "markdown",
   "metadata": {},
   "source": [
    "- Window: é uma função no Spark que ajuda a aplicar certa lógica específica a um indivíduo ou grupo de linhas no conjunto de dados\n",
    "- lag: retorna o valor da linha anterior de uma coluna em relação à linha atual "
   ]
  },
  {
   "cell_type": "code",
   "execution_count": 63,
   "metadata": {},
   "outputs": [],
   "source": [
    "from pyspark.sql.window import Window\n",
    "from pyspark.sql.functions import row_number, lag, udf\n",
    "\n"
   ]
  },
  {
   "cell_type": "code",
   "execution_count": 64,
   "metadata": {},
   "outputs": [
    {
     "name": "stdout",
     "output_type": "stream",
     "text": [
      "+----------------------------------------------------------------+-------------------+-------------+------------+\n",
      "|user_id                                                         |timestamp          |previous_page|page        |\n",
      "+----------------------------------------------------------------+-------------------+-------------+------------+\n",
      "|0005ec769b11a4cf22c7124aecc4ab4bec496df4033e2987bfebfb77c512ea9c|2017-05-02 07:01:04|started      |product info|\n",
      "|0005ec769b11a4cf22c7124aecc4ab4bec496df4033e2987bfebfb77c512ea9c|2017-05-17 07:03:17|product info |product info|\n",
      "|0005ec769b11a4cf22c7124aecc4ab4bec496df4033e2987bfebfb77c512ea9c|2017-05-28 11:02:22|product info |product info|\n",
      "|0005ec769b11a4cf22c7124aecc4ab4bec496df4033e2987bfebfb77c512ea9c|2017-06-03 10:09:25|product info |product info|\n",
      "|0005ec769b11a4cf22c7124aecc4ab4bec496df4033e2987bfebfb77c512ea9c|2017-06-10 16:42:04|product info |product info|\n",
      "|0005ec769b11a4cf22c7124aecc4ab4bec496df4033e2987bfebfb77c512ea9c|2017-06-12 18:28:38|product info |product info|\n",
      "|0005ec769b11a4cf22c7124aecc4ab4bec496df4033e2987bfebfb77c512ea9c|2017-06-21 14:20:59|product info |product info|\n",
      "|0005ec769b11a4cf22c7124aecc4ab4bec496df4033e2987bfebfb77c512ea9c|2017-06-27 13:17:14|product info |product info|\n",
      "|0005ec769b11a4cf22c7124aecc4ab4bec496df4033e2987bfebfb77c512ea9c|2017-07-21 19:47:01|product info |product info|\n",
      "|0005ec769b11a4cf22c7124aecc4ab4bec496df4033e2987bfebfb77c512ea9c|2017-08-07 17:31:02|product info |product info|\n",
      "+----------------------------------------------------------------+-------------------+-------------+------------+\n",
      "only showing top 10 rows\n",
      "\n"
     ]
    }
   ],
   "source": [
    "w = Window.partitionBy(\"user_id\").orderBy('timestamp')\n",
    "\n",
    "df = df.withColumn(\"previous_page\", lag(\"page\", 1, 'started').over(w))\n",
    "\n",
    "df.select('user_id','timestamp','previous_page','page').show(10,False)"
   ]
  },
  {
   "cell_type": "code",
   "execution_count": 65,
   "metadata": {},
   "outputs": [],
   "source": [
    "def indicator(page, prev_page): \n",
    "    if page == prev_page: \n",
    "        return 0 \n",
    "    else: return 1"
   ]
  },
  {
   "cell_type": "code",
   "execution_count": 66,
   "metadata": {},
   "outputs": [],
   "source": [
    "from pyspark.sql.types import ArrayType,IntegerType\n",
    "from pyspark.sql.functions import *"
   ]
  },
  {
   "cell_type": "code",
   "execution_count": null,
   "metadata": {},
   "outputs": [],
   "source": []
  },
  {
   "cell_type": "code",
   "execution_count": 67,
   "metadata": {},
   "outputs": [],
   "source": [
    "page_udf = udf(indicator,IntegerType())\n",
    "\n",
    "df = df.withColumn(\"indicator\",page_udf(col('page'),col('previous_page'))).withColumn('indicator_cummulative',sum(col('indicator')).over(w))"
   ]
  },
  {
   "attachments": {},
   "cell_type": "markdown",
   "metadata": {},
   "source": [
    "- O indicador cumulativo é a coluna para rastrear o número de páginas distintas durante a jornada do usuário."
   ]
  },
  {
   "cell_type": "code",
   "execution_count": 68,
   "metadata": {},
   "outputs": [
    {
     "name": "stdout",
     "output_type": "stream",
     "text": [
      "+-------------+------------+---------+---------------------+\n",
      "|previous_page|page        |indicator|indicator_cummulative|\n",
      "+-------------+------------+---------+---------------------+\n",
      "|started      |product info|1        |1                    |\n",
      "|product info |product info|0        |1                    |\n",
      "|product info |product info|0        |1                    |\n",
      "|product info |product info|0        |1                    |\n",
      "|product info |product info|0        |1                    |\n",
      "|product info |product info|0        |1                    |\n",
      "|product info |product info|0        |1                    |\n",
      "|product info |product info|0        |1                    |\n",
      "|product info |product info|0        |1                    |\n",
      "|product info |product info|0        |1                    |\n",
      "|product info |product info|0        |1                    |\n",
      "|product info |product info|0        |1                    |\n",
      "|product info |product info|0        |1                    |\n",
      "|product info |product info|0        |1                    |\n",
      "|product info |product info|0        |1                    |\n",
      "|started      |product info|1        |1                    |\n",
      "|product info |product info|0        |1                    |\n",
      "|product info |product info|0        |1                    |\n",
      "|product info |product info|0        |1                    |\n",
      "|product info |product info|0        |1                    |\n",
      "+-------------+------------+---------+---------------------+\n",
      "only showing top 20 rows\n",
      "\n"
     ]
    }
   ],
   "source": [
    "df.select('previous_page','page','indicator','indicator_cummulative').show(20,False)"
   ]
  },
  {
   "attachments": {},
   "cell_type": "markdown",
   "metadata": {},
   "source": [
    "- Continuamos criando novos objetos windows para particionar os dados ainda mais, a fim de construir as sequências para cada usuário."
   ]
  },
  {
   "cell_type": "code",
   "execution_count": 69,
   "metadata": {},
   "outputs": [
    {
     "name": "stdout",
     "output_type": "stream",
     "text": [
      "+-------------------+-------------+------------+---------+---------------------+-----------+----------------------+\n",
      "|timestamp          |previous_page|page        |indicator|indicator_cummulative|time_spent |time_spent_cummulative|\n",
      "+-------------------+-------------+------------+---------+---------------------+-----------+----------------------+\n",
      "|2017-05-02 07:01:04|started      |product info|1        |1                    |0.08       |0.08                  |\n",
      "|2017-05-17 07:03:17|product info |product info|0        |1                    |0.08       |0.16                  |\n",
      "|2017-05-28 11:02:22|product info |product info|0        |1                    |0.08       |0.24                  |\n",
      "|2017-06-03 10:09:25|product info |product info|0        |1                    |0.08       |0.32                  |\n",
      "|2017-06-10 16:42:04|product info |product info|0        |1                    |0.08       |0.4                   |\n",
      "|2017-06-12 18:28:38|product info |product info|0        |1                    |0.08       |0.48000000000000004   |\n",
      "|2017-06-21 14:20:59|product info |product info|0        |1                    |0.08       |0.56                  |\n",
      "|2017-06-27 13:17:14|product info |product info|0        |1                    |0.08       |0.64                  |\n",
      "|2017-07-21 19:47:01|product info |product info|0        |1                    |0.08       |0.72                  |\n",
      "|2017-08-07 17:31:02|product info |product info|0        |1                    |0.08       |0.7999999999999999    |\n",
      "|2017-09-13 05:04:45|product info |product info|0        |1                    |0.08       |0.8799999999999999    |\n",
      "|2017-10-18 17:25:57|product info |product info|0        |1                    |0.08       |0.9599999999999999    |\n",
      "|2017-11-06 21:00:09|product info |product info|0        |1                    |0.08       |1.0399999999999998    |\n",
      "|2018-01-15 12:35:00|product info |product info|0        |1                    |0.08       |1.1199999999999999    |\n",
      "|2018-02-14 17:42:48|product info |product info|0        |1                    |0.08       |1.2                   |\n",
      "|2017-10-23 21:02:50|started      |product info|1        |1                    |0.08       |0.08                  |\n",
      "|2017-10-25 21:00:43|product info |product info|0        |1                    |0.08       |0.16                  |\n",
      "|2018-01-04 15:58:29|product info |product info|0        |1                    |0.016666668|0.176666668           |\n",
      "|2018-01-04 15:58:30|product info |product info|0        |1                    |0.016666668|0.193333336           |\n",
      "|2018-01-04 15:58:31|product info |product info|0        |1                    |0.0        |0.243333336           |\n",
      "+-------------------+-------------+------------+---------+---------------------+-----------+----------------------+\n",
      "only showing top 20 rows\n",
      "\n"
     ]
    }
   ],
   "source": [
    "w2 = Window.partitionBy([\"user_id\",'indicator_cummulative']).orderBy('timestamp')\n",
    "\n",
    "df = df.withColumn('time_spent_cummulative', sum(col('time_spent')).over(w2))\n",
    "\n",
    "df.select('timestamp','previous_page','page','indicator','indicator_cummulative','time_spent', 'time_spent_cummulative').show(20,False)"
   ]
  },
  {
   "attachments": {},
   "cell_type": "markdown",
   "metadata": {},
   "source": [
    "- Na próxima etapa, calculamos o tempo agregado gasto em atividades semelhantes páginas para que apenas um único registro possa ser mantido para representar páginas consecutivas."
   ]
  },
  {
   "cell_type": "code",
   "execution_count": 70,
   "metadata": {},
   "outputs": [
    {
     "name": "stdout",
     "output_type": "stream",
     "text": [
      "+----------------------+---------------------+------------+------------+----------------+\n",
      "|time_spent_cummulative|indicator_cummulative|page        |final_page  |final_time_spent|\n",
      "+----------------------+---------------------+------------+------------+----------------+\n",
      "|1.2                   |1                    |product info|product info|1.2             |\n",
      "|1.1199999999999999    |1                    |product info|product info|1.2             |\n",
      "|1.0399999999999998    |1                    |product info|product info|1.2             |\n",
      "|0.9599999999999999    |1                    |product info|product info|1.2             |\n",
      "|0.8799999999999999    |1                    |product info|product info|1.2             |\n",
      "|0.7999999999999999    |1                    |product info|product info|1.2             |\n",
      "|0.72                  |1                    |product info|product info|1.2             |\n",
      "|0.64                  |1                    |product info|product info|1.2             |\n",
      "|0.56                  |1                    |product info|product info|1.2             |\n",
      "|0.48000000000000004   |1                    |product info|product info|1.2             |\n",
      "+----------------------+---------------------+------------+------------+----------------+\n",
      "only showing top 10 rows\n",
      "\n"
     ]
    }
   ],
   "source": [
    "w3 = Window.partitionBy([\"user_id\",'indicator_cummulative']).orderBy(col('timestamp').desc())\n",
    "\n",
    "df = df.withColumn('final_page',first('page').over(w3)).withColumn('final_time_spent',first('time_spent_cummulative').over(w3))\n",
    "\n",
    "df.select(['time_spent_cummulative','indicator_cummulative','page','final_page','final_time_spent']).show(10,False)"
   ]
  },
  {
   "cell_type": "code",
   "execution_count": 71,
   "metadata": {},
   "outputs": [],
   "source": [
    "aggregations=[]\n",
    "\n",
    "aggregations.append(max(col('final_page')).alias('page_emb'))\n",
    "\n",
    "aggregations.append(max(col('final_time_spent')).alias('time_spent_emb'))\n",
    "\n",
    "aggregations.append(max(col('converted')).alias('converted_emb'))\n",
    "\n",
    "df_embedding = df.select(['user_id','indicator_cummulative','final_page','final_time_spent','converted']).groupBy(['user_id','indicator_cummulative']).agg(*aggregations)\n",
    "\n",
    "w4 = Window.partitionBy([\"user_id\"]).orderBy('indicator_cummulative')\n",
    "\n",
    "w5 = Window.partitionBy([\"user_id\"]).orderBy(col('indicator_cummulative').desc())"
   ]
  },
  {
   "attachments": {},
   "cell_type": "markdown",
   "metadata": {},
   "source": [
    "- Por fim, usamos uma lista de coleta para combinar todas as páginas da jornada de um usuário em uma única lista e também para o tempo gasto. Como resultado, terminamos com a jornada do usuário na forma de uma lista de páginas e uma lista de tempo gasto."
   ]
  },
  {
   "cell_type": "code",
   "execution_count": 72,
   "metadata": {},
   "outputs": [],
   "source": [
    "df_embedding = df_embedding\\\n",
    ".withColumn('journey_page', collect_list(col('page_emb')).over(w4))\\\n",
    ".withColumn('journey_time_temp',collect_list(col('time_spent_emb')).over(w4)) \\\n",
    ".withColumn('journey_page_final',first('journey_page').over(w5))\\\n",
    ".withColumn('journey_time_final', first('journey_time_temp').over(w5)) \\\n",
    ".select(['user_id','journey_page_final','journey_time_final','converted_emb'])"
   ]
  },
  {
   "attachments": {},
   "cell_type": "markdown",
   "metadata": {},
   "source": [
    "- Continuamos com jornadas únicas de usuários. Cada usuário é representado por um único vetor de jornada e tempo gasto"
   ]
  },
  {
   "cell_type": "code",
   "execution_count": 73,
   "metadata": {},
   "outputs": [
    {
     "name": "stdout",
     "output_type": "stream",
     "text": [
      "+--------------------+--------------------+--------------------+\n",
      "|             user_id|  journey_page_final|  journey_time_final|\n",
      "+--------------------+--------------------+--------------------+\n",
      "|0005ec769b11a4cf2...|      [product info]|               [1.2]|\n",
      "|000b57de22d67187b...|      [product info]|[0.40333333600000...|\n",
      "|001a13b2d3fae30b9...|[homepage, produc...|[0.26666668, 3.09...|\n",
      "|0021689e622e8f268...|[homepage, produc...|[0.11666667, 8.26...|\n",
      "|00323567146f62efb...|[homepage, produc...|[0.28333333, 0.26...|\n",
      "|0038eeefa396cff29...|[product info, ho...|[0.58, 19.466667,...|\n",
      "|003d29d24cff1d994...|[homepage, produc...|[0.25, 0.89666667...|\n",
      "|00495ae8c90665343...|      [product info]|[1.4733333000000004]|\n",
      "|004e96d0dc01f2541...|      [product info]|[3.5533333000000002]|\n",
      "|0058982521702bf10...|      [product info]|       [2.210000036]|\n",
      "+--------------------+--------------------+--------------------+\n",
      "only showing top 10 rows\n",
      "\n"
     ]
    }
   ],
   "source": [
    "df_embedding = df_embedding.dropDuplicates()\n",
    "\n",
    "df_embedding.count()\n",
    " \n",
    "df_embedding.select('user_id').distinct().count()\n",
    " \n",
    "df_embedding.select('user_id','journey_page_final','journey_time_final').show(10)"
   ]
  },
  {
   "attachments": {},
   "cell_type": "markdown",
   "metadata": {},
   "source": [
    "- Agora que temos as jornadas do usuário e a lista de tempo gasto, convertemos esse dataframe em um dataframe do Pandas e construímos um modelo word2vec usando essas sequências de jornada. Temos que instalar uma biblioteca gensim primeiro para usar o word2vec. Usamos o tamanho de incorporação de 100 para mantê-lo simples."
   ]
  },
  {
   "cell_type": "code",
   "execution_count": 74,
   "metadata": {},
   "outputs": [],
   "source": [
    "from gensim.models import Word2Vec"
   ]
  },
  {
   "cell_type": "code",
   "execution_count": 85,
   "metadata": {},
   "outputs": [],
   "source": [
    "EMBEDDING_SIZE = 100"
   ]
  },
  {
   "cell_type": "code",
   "execution_count": 83,
   "metadata": {},
   "outputs": [],
   "source": [
    "pd_df_emb0 = df_embedding.toPandas()"
   ]
  },
  {
   "cell_type": "code",
   "execution_count": 84,
   "metadata": {},
   "outputs": [
    {
     "data": {
      "text/html": [
       "<div>\n",
       "<style scoped>\n",
       "    .dataframe tbody tr th:only-of-type {\n",
       "        vertical-align: middle;\n",
       "    }\n",
       "\n",
       "    .dataframe tbody tr th {\n",
       "        vertical-align: top;\n",
       "    }\n",
       "\n",
       "    .dataframe thead th {\n",
       "        text-align: right;\n",
       "    }\n",
       "</style>\n",
       "<table border=\"1\" class=\"dataframe\">\n",
       "  <thead>\n",
       "    <tr style=\"text-align: right;\">\n",
       "      <th></th>\n",
       "      <th>user_id</th>\n",
       "      <th>journey_page_final</th>\n",
       "      <th>journey_time_final</th>\n",
       "      <th>converted_emb</th>\n",
       "    </tr>\n",
       "  </thead>\n",
       "  <tbody>\n",
       "    <tr>\n",
       "      <th>0</th>\n",
       "      <td>0005ec769b11a4cf22c7124aecc4ab4bec496df4033e29...</td>\n",
       "      <td>[product info]</td>\n",
       "      <td>[1.2]</td>\n",
       "      <td>0</td>\n",
       "    </tr>\n",
       "    <tr>\n",
       "      <th>1</th>\n",
       "      <td>000b57de22d67187b62f4358a063ed49578cee26b49ec9...</td>\n",
       "      <td>[product info]</td>\n",
       "      <td>[0.40333333600000004]</td>\n",
       "      <td>0</td>\n",
       "    </tr>\n",
       "    <tr>\n",
       "      <th>2</th>\n",
       "      <td>001a13b2d3fae30b92d751c06f1edcfa222b1e488f96f7...</td>\n",
       "      <td>[homepage, product info]</td>\n",
       "      <td>[0.26666668, 3.0999999860000003]</td>\n",
       "      <td>0</td>\n",
       "    </tr>\n",
       "    <tr>\n",
       "      <th>3</th>\n",
       "      <td>0021689e622e8f268c0da22075606a1b79aa228fab57f0...</td>\n",
       "      <td>[homepage, product info]</td>\n",
       "      <td>[0.11666667, 8.266666559999999]</td>\n",
       "      <td>0</td>\n",
       "    </tr>\n",
       "    <tr>\n",
       "      <th>4</th>\n",
       "      <td>00323567146f62efb583248589bd17503177ea0fe16447...</td>\n",
       "      <td>[homepage, product info, others, product info,...</td>\n",
       "      <td>[0.28333333, 0.266666665, 0.13333334, 0.650000...</td>\n",
       "      <td>0</td>\n",
       "    </tr>\n",
       "    <tr>\n",
       "      <th>...</th>\n",
       "      <td>...</td>\n",
       "      <td>...</td>\n",
       "      <td>...</td>\n",
       "      <td>...</td>\n",
       "    </tr>\n",
       "    <tr>\n",
       "      <th>104082</th>\n",
       "      <td>ffa8ffa4cab3553340955a52a9e84cea5eed111fa3d571...</td>\n",
       "      <td>[homepage, product info]</td>\n",
       "      <td>[0.08, 8.91666694]</td>\n",
       "      <td>0</td>\n",
       "    </tr>\n",
       "    <tr>\n",
       "      <th>104083</th>\n",
       "      <td>ffb19abd0571ea668123df60b6c8838b0018eab717da7d...</td>\n",
       "      <td>[homepage, product info, homepage, product info]</td>\n",
       "      <td>[0.16666667, 0.333333335, 0.6, 0.08]</td>\n",
       "      <td>0</td>\n",
       "    </tr>\n",
       "    <tr>\n",
       "      <th>104084</th>\n",
       "      <td>ffc57f3c1757a775cd0ed734f825368d67409d2cacca9f...</td>\n",
       "      <td>[homepage, offers, product info, others, offer...</td>\n",
       "      <td>[0.36666667, 0.46666667, 0.51666665, 0.3166666...</td>\n",
       "      <td>0</td>\n",
       "    </tr>\n",
       "    <tr>\n",
       "      <th>104085</th>\n",
       "      <td>ffca62be7159e9d89cf8669b798e5b356943ed34f5944e...</td>\n",
       "      <td>[homepage, buy, added to cart, buy, offers, pr...</td>\n",
       "      <td>[0.5, 0.31666666, 2.1666666, 0.2, 1.6333333, 0...</td>\n",
       "      <td>1</td>\n",
       "    </tr>\n",
       "    <tr>\n",
       "      <th>104086</th>\n",
       "      <td>ffdd47b02ff777e16ca0127d58caf2bc805479a41566f4...</td>\n",
       "      <td>[product info]</td>\n",
       "      <td>[21.509999336]</td>\n",
       "      <td>0</td>\n",
       "    </tr>\n",
       "  </tbody>\n",
       "</table>\n",
       "<p>104087 rows × 4 columns</p>\n",
       "</div>"
      ],
      "text/plain": [
       "                                                  user_id  \\\n",
       "0       0005ec769b11a4cf22c7124aecc4ab4bec496df4033e29...   \n",
       "1       000b57de22d67187b62f4358a063ed49578cee26b49ec9...   \n",
       "2       001a13b2d3fae30b92d751c06f1edcfa222b1e488f96f7...   \n",
       "3       0021689e622e8f268c0da22075606a1b79aa228fab57f0...   \n",
       "4       00323567146f62efb583248589bd17503177ea0fe16447...   \n",
       "...                                                   ...   \n",
       "104082  ffa8ffa4cab3553340955a52a9e84cea5eed111fa3d571...   \n",
       "104083  ffb19abd0571ea668123df60b6c8838b0018eab717da7d...   \n",
       "104084  ffc57f3c1757a775cd0ed734f825368d67409d2cacca9f...   \n",
       "104085  ffca62be7159e9d89cf8669b798e5b356943ed34f5944e...   \n",
       "104086  ffdd47b02ff777e16ca0127d58caf2bc805479a41566f4...   \n",
       "\n",
       "                                       journey_page_final  \\\n",
       "0                                          [product info]   \n",
       "1                                          [product info]   \n",
       "2                                [homepage, product info]   \n",
       "3                                [homepage, product info]   \n",
       "4       [homepage, product info, others, product info,...   \n",
       "...                                                   ...   \n",
       "104082                           [homepage, product info]   \n",
       "104083   [homepage, product info, homepage, product info]   \n",
       "104084  [homepage, offers, product info, others, offer...   \n",
       "104085  [homepage, buy, added to cart, buy, offers, pr...   \n",
       "104086                                     [product info]   \n",
       "\n",
       "                                       journey_time_final  converted_emb  \n",
       "0                                                   [1.2]              0  \n",
       "1                                   [0.40333333600000004]              0  \n",
       "2                        [0.26666668, 3.0999999860000003]              0  \n",
       "3                         [0.11666667, 8.266666559999999]              0  \n",
       "4       [0.28333333, 0.266666665, 0.13333334, 0.650000...              0  \n",
       "...                                                   ...            ...  \n",
       "104082                                 [0.08, 8.91666694]              0  \n",
       "104083               [0.16666667, 0.333333335, 0.6, 0.08]              0  \n",
       "104084  [0.36666667, 0.46666667, 0.51666665, 0.3166666...              0  \n",
       "104085  [0.5, 0.31666666, 2.1666666, 0.2, 1.6333333, 0...              1  \n",
       "104086                                     [21.509999336]              0  \n",
       "\n",
       "[104087 rows x 4 columns]"
      ]
     },
     "execution_count": 84,
     "metadata": {},
     "output_type": "execute_result"
    }
   ],
   "source": [
    "pd_df_embedding = pd_df_emb0.reset_index(drop=True)\n",
    "pd_df_embedding"
   ]
  },
  {
   "attachments": {},
   "cell_type": "markdown",
   "metadata": {},
   "source": [
    "- Como podemos observar, o tamanho do vocabulário é 7 porque estávamos lidando com apenas 7 categorias de páginas. Cada uma dessas categorias de páginas agora pode ser representada com a ajuda de um vetor de incorporação de tamanho 100."
   ]
  },
  {
   "cell_type": "code",
   "execution_count": 90,
   "metadata": {},
   "outputs": [
    {
     "ename": "TypeError",
     "evalue": "Both corpus_file and corpus_iterable must not be provided at the same time",
     "output_type": "error",
     "traceback": [
      "\u001b[1;31m---------------------------------------------------------------------------\u001b[0m",
      "\u001b[1;31mTypeError\u001b[0m                                 Traceback (most recent call last)",
      "Cell \u001b[1;32mIn [90], line 1\u001b[0m\n\u001b[1;32m----> 1\u001b[0m model \u001b[39m=\u001b[39m Word2Vec(pd_df_embedding[\u001b[39m'\u001b[39;49m\u001b[39mjourney_page_final\u001b[39;49m\u001b[39m'\u001b[39;49m], \u001b[39m100\u001b[39;49m)\n",
      "File \u001b[1;32mc:\\Users\\Pc\\anaconda3\\lib\\site-packages\\gensim\\models\\word2vec.py:425\u001b[0m, in \u001b[0;36mWord2Vec.__init__\u001b[1;34m(self, sentences, corpus_file, vector_size, alpha, window, min_count, max_vocab_size, sample, seed, workers, min_alpha, sg, hs, negative, ns_exponent, cbow_mean, hashfxn, epochs, null_word, trim_rule, sorted_vocab, batch_words, compute_loss, callbacks, comment, max_final_vocab, shrink_windows)\u001b[0m\n\u001b[0;32m    422\u001b[0m \u001b[39mself\u001b[39m\u001b[39m.\u001b[39mload \u001b[39m=\u001b[39m call_on_class_only\n\u001b[0;32m    424\u001b[0m \u001b[39mif\u001b[39;00m corpus_iterable \u001b[39mis\u001b[39;00m \u001b[39mnot\u001b[39;00m \u001b[39mNone\u001b[39;00m \u001b[39mor\u001b[39;00m corpus_file \u001b[39mis\u001b[39;00m \u001b[39mnot\u001b[39;00m \u001b[39mNone\u001b[39;00m:\n\u001b[1;32m--> 425\u001b[0m     \u001b[39mself\u001b[39;49m\u001b[39m.\u001b[39;49m_check_corpus_sanity(corpus_iterable\u001b[39m=\u001b[39;49mcorpus_iterable, corpus_file\u001b[39m=\u001b[39;49mcorpus_file, passes\u001b[39m=\u001b[39;49m(epochs \u001b[39m+\u001b[39;49m \u001b[39m1\u001b[39;49m))\n\u001b[0;32m    426\u001b[0m     \u001b[39mself\u001b[39m\u001b[39m.\u001b[39mbuild_vocab(corpus_iterable\u001b[39m=\u001b[39mcorpus_iterable, corpus_file\u001b[39m=\u001b[39mcorpus_file, trim_rule\u001b[39m=\u001b[39mtrim_rule)\n\u001b[0;32m    427\u001b[0m     \u001b[39mself\u001b[39m\u001b[39m.\u001b[39mtrain(\n\u001b[0;32m    428\u001b[0m         corpus_iterable\u001b[39m=\u001b[39mcorpus_iterable, corpus_file\u001b[39m=\u001b[39mcorpus_file, total_examples\u001b[39m=\u001b[39m\u001b[39mself\u001b[39m\u001b[39m.\u001b[39mcorpus_count,\n\u001b[0;32m    429\u001b[0m         total_words\u001b[39m=\u001b[39m\u001b[39mself\u001b[39m\u001b[39m.\u001b[39mcorpus_total_words, epochs\u001b[39m=\u001b[39m\u001b[39mself\u001b[39m\u001b[39m.\u001b[39mepochs, start_alpha\u001b[39m=\u001b[39m\u001b[39mself\u001b[39m\u001b[39m.\u001b[39malpha,\n\u001b[0;32m    430\u001b[0m         end_alpha\u001b[39m=\u001b[39m\u001b[39mself\u001b[39m\u001b[39m.\u001b[39mmin_alpha, compute_loss\u001b[39m=\u001b[39m\u001b[39mself\u001b[39m\u001b[39m.\u001b[39mcompute_loss, callbacks\u001b[39m=\u001b[39mcallbacks)\n",
      "File \u001b[1;32mc:\\Users\\Pc\\anaconda3\\lib\\site-packages\\gensim\\models\\word2vec.py:1496\u001b[0m, in \u001b[0;36mWord2Vec._check_corpus_sanity\u001b[1;34m(self, corpus_iterable, corpus_file, passes)\u001b[0m\n\u001b[0;32m   1494\u001b[0m     \u001b[39mraise\u001b[39;00m \u001b[39mTypeError\u001b[39;00m(\u001b[39m\"\u001b[39m\u001b[39mEither one of corpus_file or corpus_iterable value must be provided\u001b[39m\u001b[39m\"\u001b[39m)\n\u001b[0;32m   1495\u001b[0m \u001b[39mif\u001b[39;00m corpus_file \u001b[39mis\u001b[39;00m \u001b[39mnot\u001b[39;00m \u001b[39mNone\u001b[39;00m \u001b[39mand\u001b[39;00m corpus_iterable \u001b[39mis\u001b[39;00m \u001b[39mnot\u001b[39;00m \u001b[39mNone\u001b[39;00m:\n\u001b[1;32m-> 1496\u001b[0m     \u001b[39mraise\u001b[39;00m \u001b[39mTypeError\u001b[39;00m(\u001b[39m\"\u001b[39m\u001b[39mBoth corpus_file and corpus_iterable must not be provided at the same time\u001b[39m\u001b[39m\"\u001b[39m)\n\u001b[0;32m   1497\u001b[0m \u001b[39mif\u001b[39;00m corpus_iterable \u001b[39mis\u001b[39;00m \u001b[39mNone\u001b[39;00m \u001b[39mand\u001b[39;00m \u001b[39mnot\u001b[39;00m os\u001b[39m.\u001b[39mpath\u001b[39m.\u001b[39misfile(corpus_file):\n\u001b[0;32m   1498\u001b[0m     \u001b[39mraise\u001b[39;00m \u001b[39mTypeError\u001b[39;00m(\u001b[39m\"\u001b[39m\u001b[39mParameter corpus_file must be a valid path to a file, got \u001b[39m\u001b[39m%r\u001b[39;00m\u001b[39m instead\u001b[39m\u001b[39m\"\u001b[39m \u001b[39m%\u001b[39m corpus_file)\n",
      "\u001b[1;31mTypeError\u001b[0m: Both corpus_file and corpus_iterable must not be provided at the same time"
     ]
    }
   ],
   "source": [
    "model = Word2Vec(pd_df_embedding['journey_page_final'], 100)\n",
    "#CONTINUAR"
   ]
  }
 ],
 "metadata": {
  "kernelspec": {
   "display_name": "base",
   "language": "python",
   "name": "python3"
  },
  "language_info": {
   "codemirror_mode": {
    "name": "ipython",
    "version": 3
   },
   "file_extension": ".py",
   "mimetype": "text/x-python",
   "name": "python",
   "nbconvert_exporter": "python",
   "pygments_lexer": "ipython3",
   "version": "3.9.7"
  },
  "orig_nbformat": 4,
  "vscode": {
   "interpreter": {
    "hash": "2e33924f5cad5d014716ef47a4956958652f2e3e756f7b26cc7db08a809e4a3f"
   }
  }
 },
 "nbformat": 4,
 "nbformat_minor": 2
}
